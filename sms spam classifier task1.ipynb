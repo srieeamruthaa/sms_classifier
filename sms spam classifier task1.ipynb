{
 "cells": [
  {
   "cell_type": "code",
   "execution_count": 36,
   "id": "ac939726",
   "metadata": {},
   "outputs": [],
   "source": [
    "import numpy as np\n",
    "import pandas as pd\n",
    "from sklearn.model_selection import train_test_split\n",
    "from sklearn.feature_extraction.text import TfidfVectorizer\n",
    "from sklearn.linear_model import LogisticRegression\n",
    "from sklearn.metrics import accuracy_score, classification_report, confusion_matrix\n",
    "from sklearn.pipeline import make_pipeline\n",
    "import seaborn as sns\n",
    "import matplotlib.pyplot as plt"
   ]
  },
  {
   "cell_type": "markdown",
   "id": "d10087c4",
   "metadata": {},
   "source": [
    "# Data collection & pre-processing"
   ]
  },
  {
   "cell_type": "code",
   "execution_count": 37,
   "id": "441621c9",
   "metadata": {},
   "outputs": [],
   "source": [
    "#loading the data from csv file to a pandas dataframe\n",
    "ds=pd.read_csv('spam_data.csv')"
   ]
  },
  {
   "cell_type": "code",
   "execution_count": 38,
   "id": "c8b19af8",
   "metadata": {},
   "outputs": [
    {
     "data": {
      "text/html": [
       "<div>\n",
       "<style scoped>\n",
       "    .dataframe tbody tr th:only-of-type {\n",
       "        vertical-align: middle;\n",
       "    }\n",
       "\n",
       "    .dataframe tbody tr th {\n",
       "        vertical-align: top;\n",
       "    }\n",
       "\n",
       "    .dataframe thead th {\n",
       "        text-align: right;\n",
       "    }\n",
       "</style>\n",
       "<table border=\"1\" class=\"dataframe\">\n",
       "  <thead>\n",
       "    <tr style=\"text-align: right;\">\n",
       "      <th></th>\n",
       "      <th>Category</th>\n",
       "      <th>Message</th>\n",
       "    </tr>\n",
       "  </thead>\n",
       "  <tbody>\n",
       "    <tr>\n",
       "      <th>0</th>\n",
       "      <td>ham</td>\n",
       "      <td>Go until jurong point, crazy.. Available only ...</td>\n",
       "    </tr>\n",
       "    <tr>\n",
       "      <th>1</th>\n",
       "      <td>ham</td>\n",
       "      <td>Ok lar... Joking wif u oni...</td>\n",
       "    </tr>\n",
       "    <tr>\n",
       "      <th>2</th>\n",
       "      <td>spam</td>\n",
       "      <td>Free entry in 2 a wkly comp to win FA Cup fina...</td>\n",
       "    </tr>\n",
       "    <tr>\n",
       "      <th>3</th>\n",
       "      <td>ham</td>\n",
       "      <td>U dun say so early hor... U c already then say...</td>\n",
       "    </tr>\n",
       "    <tr>\n",
       "      <th>4</th>\n",
       "      <td>ham</td>\n",
       "      <td>Nah I don't think he goes to usf, he lives aro...</td>\n",
       "    </tr>\n",
       "    <tr>\n",
       "      <th>...</th>\n",
       "      <td>...</td>\n",
       "      <td>...</td>\n",
       "    </tr>\n",
       "    <tr>\n",
       "      <th>5567</th>\n",
       "      <td>spam</td>\n",
       "      <td>This is the 2nd time we have tried 2 contact u...</td>\n",
       "    </tr>\n",
       "    <tr>\n",
       "      <th>5568</th>\n",
       "      <td>ham</td>\n",
       "      <td>Will ü b going to esplanade fr home?</td>\n",
       "    </tr>\n",
       "    <tr>\n",
       "      <th>5569</th>\n",
       "      <td>ham</td>\n",
       "      <td>Pity, * was in mood for that. So...any other s...</td>\n",
       "    </tr>\n",
       "    <tr>\n",
       "      <th>5570</th>\n",
       "      <td>ham</td>\n",
       "      <td>The guy did some bitching but I acted like i'd...</td>\n",
       "    </tr>\n",
       "    <tr>\n",
       "      <th>5571</th>\n",
       "      <td>ham</td>\n",
       "      <td>Rofl. Its true to its name</td>\n",
       "    </tr>\n",
       "  </tbody>\n",
       "</table>\n",
       "<p>5572 rows × 2 columns</p>\n",
       "</div>"
      ],
      "text/plain": [
       "     Category                                            Message\n",
       "0         ham  Go until jurong point, crazy.. Available only ...\n",
       "1         ham                      Ok lar... Joking wif u oni...\n",
       "2        spam  Free entry in 2 a wkly comp to win FA Cup fina...\n",
       "3         ham  U dun say so early hor... U c already then say...\n",
       "4         ham  Nah I don't think he goes to usf, he lives aro...\n",
       "...       ...                                                ...\n",
       "5567     spam  This is the 2nd time we have tried 2 contact u...\n",
       "5568      ham               Will ü b going to esplanade fr home?\n",
       "5569      ham  Pity, * was in mood for that. So...any other s...\n",
       "5570      ham  The guy did some bitching but I acted like i'd...\n",
       "5571      ham                         Rofl. Its true to its name\n",
       "\n",
       "[5572 rows x 2 columns]"
      ]
     },
     "execution_count": 38,
     "metadata": {},
     "output_type": "execute_result"
    }
   ],
   "source": [
    "ds"
   ]
  },
  {
   "cell_type": "code",
   "execution_count": 39,
   "id": "b2aa02fd",
   "metadata": {},
   "outputs": [],
   "source": [
    "#replace the null values with a null string\n",
    "sms_data=ds.where((pd.notnull(ds)),'')\n"
   ]
  },
  {
   "cell_type": "code",
   "execution_count": 40,
   "id": "205f65f7",
   "metadata": {},
   "outputs": [
    {
     "data": {
      "text/html": [
       "<div>\n",
       "<style scoped>\n",
       "    .dataframe tbody tr th:only-of-type {\n",
       "        vertical-align: middle;\n",
       "    }\n",
       "\n",
       "    .dataframe tbody tr th {\n",
       "        vertical-align: top;\n",
       "    }\n",
       "\n",
       "    .dataframe thead th {\n",
       "        text-align: right;\n",
       "    }\n",
       "</style>\n",
       "<table border=\"1\" class=\"dataframe\">\n",
       "  <thead>\n",
       "    <tr style=\"text-align: right;\">\n",
       "      <th></th>\n",
       "      <th>Category</th>\n",
       "      <th>Message</th>\n",
       "    </tr>\n",
       "  </thead>\n",
       "  <tbody>\n",
       "    <tr>\n",
       "      <th>0</th>\n",
       "      <td>ham</td>\n",
       "      <td>Go until jurong point, crazy.. Available only ...</td>\n",
       "    </tr>\n",
       "    <tr>\n",
       "      <th>1</th>\n",
       "      <td>ham</td>\n",
       "      <td>Ok lar... Joking wif u oni...</td>\n",
       "    </tr>\n",
       "    <tr>\n",
       "      <th>2</th>\n",
       "      <td>spam</td>\n",
       "      <td>Free entry in 2 a wkly comp to win FA Cup fina...</td>\n",
       "    </tr>\n",
       "    <tr>\n",
       "      <th>3</th>\n",
       "      <td>ham</td>\n",
       "      <td>U dun say so early hor... U c already then say...</td>\n",
       "    </tr>\n",
       "    <tr>\n",
       "      <th>4</th>\n",
       "      <td>ham</td>\n",
       "      <td>Nah I don't think he goes to usf, he lives aro...</td>\n",
       "    </tr>\n",
       "  </tbody>\n",
       "</table>\n",
       "</div>"
      ],
      "text/plain": [
       "  Category                                            Message\n",
       "0      ham  Go until jurong point, crazy.. Available only ...\n",
       "1      ham                      Ok lar... Joking wif u oni...\n",
       "2     spam  Free entry in 2 a wkly comp to win FA Cup fina...\n",
       "3      ham  U dun say so early hor... U c already then say...\n",
       "4      ham  Nah I don't think he goes to usf, he lives aro..."
      ]
     },
     "execution_count": 40,
     "metadata": {},
     "output_type": "execute_result"
    }
   ],
   "source": [
    "sms_data.head()\n"
   ]
  },
  {
   "cell_type": "code",
   "execution_count": 41,
   "id": "12237a62",
   "metadata": {},
   "outputs": [
    {
     "data": {
      "text/plain": [
       "(5572, 2)"
      ]
     },
     "execution_count": 41,
     "metadata": {},
     "output_type": "execute_result"
    }
   ],
   "source": [
    "#checking the number of rows and columns in the dataframe\n",
    "sms_data.shape"
   ]
  },
  {
   "cell_type": "code",
   "execution_count": 42,
   "id": "b25f752e",
   "metadata": {},
   "outputs": [
    {
     "name": "stdout",
     "output_type": "stream",
     "text": [
      "<class 'pandas.core.frame.DataFrame'>\n",
      "RangeIndex: 5572 entries, 0 to 5571\n",
      "Data columns (total 2 columns):\n",
      " #   Column    Non-Null Count  Dtype \n",
      "---  ------    --------------  ----- \n",
      " 0   Category  5572 non-null   object\n",
      " 1   Message   5572 non-null   object\n",
      "dtypes: object(2)\n",
      "memory usage: 87.2+ KB\n"
     ]
    }
   ],
   "source": [
    "sms_data.info()"
   ]
  },
  {
   "cell_type": "code",
   "execution_count": 43,
   "id": "9cfbb156",
   "metadata": {},
   "outputs": [
    {
     "data": {
      "text/html": [
       "<div>\n",
       "<style scoped>\n",
       "    .dataframe tbody tr th:only-of-type {\n",
       "        vertical-align: middle;\n",
       "    }\n",
       "\n",
       "    .dataframe tbody tr th {\n",
       "        vertical-align: top;\n",
       "    }\n",
       "\n",
       "    .dataframe thead th {\n",
       "        text-align: right;\n",
       "    }\n",
       "</style>\n",
       "<table border=\"1\" class=\"dataframe\">\n",
       "  <thead>\n",
       "    <tr style=\"text-align: right;\">\n",
       "      <th></th>\n",
       "      <th>Category</th>\n",
       "      <th>Message</th>\n",
       "    </tr>\n",
       "  </thead>\n",
       "  <tbody>\n",
       "    <tr>\n",
       "      <th>count</th>\n",
       "      <td>5572</td>\n",
       "      <td>5572</td>\n",
       "    </tr>\n",
       "    <tr>\n",
       "      <th>unique</th>\n",
       "      <td>2</td>\n",
       "      <td>5157</td>\n",
       "    </tr>\n",
       "    <tr>\n",
       "      <th>top</th>\n",
       "      <td>ham</td>\n",
       "      <td>Sorry, I'll call later</td>\n",
       "    </tr>\n",
       "    <tr>\n",
       "      <th>freq</th>\n",
       "      <td>4825</td>\n",
       "      <td>30</td>\n",
       "    </tr>\n",
       "  </tbody>\n",
       "</table>\n",
       "</div>"
      ],
      "text/plain": [
       "       Category                 Message\n",
       "count      5572                    5572\n",
       "unique        2                    5157\n",
       "top         ham  Sorry, I'll call later\n",
       "freq       4825                      30"
      ]
     },
     "execution_count": 43,
     "metadata": {},
     "output_type": "execute_result"
    }
   ],
   "source": [
    "sms_data.describe()"
   ]
  },
  {
   "cell_type": "markdown",
   "id": "c52ff200",
   "metadata": {},
   "source": [
    "# label encoding"
   ]
  },
  {
   "cell_type": "code",
   "execution_count": 44,
   "id": "f3a7e32d",
   "metadata": {},
   "outputs": [],
   "source": [
    "#label spam mail=0,ham mail=1"
   ]
  },
  {
   "cell_type": "code",
   "execution_count": 45,
   "id": "7b84885d",
   "metadata": {},
   "outputs": [],
   "source": [
    "sms_data.loc[sms_data['Category']=='spam','Category',]=0"
   ]
  },
  {
   "cell_type": "code",
   "execution_count": 46,
   "id": "8c20e7de",
   "metadata": {},
   "outputs": [],
   "source": [
    "sms_data.loc[sms_data['Category']=='ham','Category',]=1"
   ]
  },
  {
   "cell_type": "code",
   "execution_count": 47,
   "id": "e763f10c",
   "metadata": {},
   "outputs": [],
   "source": [
    "#separating the data as texts and label\n",
    "X=sms_data['Message']\n",
    "Y=sms_data['Category']"
   ]
  },
  {
   "cell_type": "code",
   "execution_count": 48,
   "id": "8c2e6ff0",
   "metadata": {},
   "outputs": [
    {
     "data": {
      "text/plain": [
       "0       Go until jurong point, crazy.. Available only ...\n",
       "1                           Ok lar... Joking wif u oni...\n",
       "2       Free entry in 2 a wkly comp to win FA Cup fina...\n",
       "3       U dun say so early hor... U c already then say...\n",
       "4       Nah I don't think he goes to usf, he lives aro...\n",
       "                              ...                        \n",
       "5567    This is the 2nd time we have tried 2 contact u...\n",
       "5568                 Will ü b going to esplanade fr home?\n",
       "5569    Pity, * was in mood for that. So...any other s...\n",
       "5570    The guy did some bitching but I acted like i'd...\n",
       "5571                           Rofl. Its true to its name\n",
       "Name: Message, Length: 5572, dtype: object"
      ]
     },
     "execution_count": 48,
     "metadata": {},
     "output_type": "execute_result"
    }
   ],
   "source": [
    "X\n"
   ]
  },
  {
   "cell_type": "code",
   "execution_count": 49,
   "id": "db277999",
   "metadata": {},
   "outputs": [
    {
     "data": {
      "text/plain": [
       "0       1\n",
       "1       1\n",
       "2       0\n",
       "3       1\n",
       "4       1\n",
       "       ..\n",
       "5567    0\n",
       "5568    1\n",
       "5569    1\n",
       "5570    1\n",
       "5571    1\n",
       "Name: Category, Length: 5572, dtype: object"
      ]
     },
     "execution_count": 49,
     "metadata": {},
     "output_type": "execute_result"
    }
   ],
   "source": [
    "Y"
   ]
  },
  {
   "cell_type": "markdown",
   "id": "8fe2eb23",
   "metadata": {},
   "source": [
    "# Splitting the data into training data & test data"
   ]
  },
  {
   "cell_type": "code",
   "execution_count": 50,
   "id": "cd2f50db",
   "metadata": {},
   "outputs": [],
   "source": [
    "X_train,X_test,Y_train,Y_test=train_test_split(X,Y,test_size=0.2 ,random_state=3)"
   ]
  },
  {
   "cell_type": "code",
   "execution_count": 51,
   "id": "8f047dd9",
   "metadata": {},
   "outputs": [
    {
     "name": "stdout",
     "output_type": "stream",
     "text": [
      "(5572,)\n",
      "(4457,)\n",
      "(1115,)\n"
     ]
    }
   ],
   "source": [
    "print(X.shape)\n",
    "print(X_train.shape)\n",
    "print(X_test.shape)"
   ]
  },
  {
   "cell_type": "code",
   "execution_count": 52,
   "id": "9fff6199",
   "metadata": {},
   "outputs": [
    {
     "name": "stdout",
     "output_type": "stream",
     "text": [
      "(5572,)\n",
      "(4457,)\n",
      "(1115,)\n"
     ]
    }
   ],
   "source": [
    "print(Y.shape)\n",
    "print(Y_train.shape)\n",
    "print(Y_test.shape)"
   ]
  },
  {
   "cell_type": "markdown",
   "id": "eb73f5da",
   "metadata": {},
   "source": [
    "# Feature extraction"
   ]
  },
  {
   "cell_type": "code",
   "execution_count": 53,
   "id": "4e572fed",
   "metadata": {},
   "outputs": [],
   "source": [
    "#convert text data into (meaningful value) feature vectors that can be used as input to the logistic regression\n",
    "\n",
    "feature_extraction=TfidfVectorizer(min_df=1,stop_words=['english'],lowercase=True)\n",
    "X_train_features=feature_extraction.fit_transform(X_train)\n",
    "X_test_features=feature_extraction.transform(X_test)\n"
   ]
  },
  {
   "cell_type": "code",
   "execution_count": 54,
   "id": "381980f7",
   "metadata": {},
   "outputs": [],
   "source": [
    "#convert Y_train and y_test value into integers"
   ]
  },
  {
   "cell_type": "code",
   "execution_count": 55,
   "id": "b4efd867",
   "metadata": {},
   "outputs": [],
   "source": [
    "Y_train=Y_train.astype('int')\n",
    "Y_test=Y_test.astype('int')"
   ]
  },
  {
   "cell_type": "code",
   "execution_count": 56,
   "id": "6da7c6f0",
   "metadata": {},
   "outputs": [
    {
     "name": "stdout",
     "output_type": "stream",
     "text": [
      "  (0, 5590)\t0.5690977835360829\n",
      "  (0, 3402)\t0.3962142772134919\n",
      "  (0, 4593)\t0.38274870785912624\n",
      "  (0, 2284)\t0.37929420133365177\n",
      "  (0, 3933)\t0.31933689575195645\n",
      "  (0, 2390)\t0.3560972364184373\n",
      "  (1, 4205)\t0.14850870903418734\n",
      "  (1, 7499)\t0.12575231570549783\n",
      "  (1, 3285)\t0.23356742056200896\n",
      "  (1, 3433)\t0.24863888769921966\n",
      "  (1, 1576)\t0.1489850750114476\n",
      "  (1, 3053)\t0.26729930485517817\n",
      "  (1, 6816)\t0.204883965246415\n",
      "  (1, 2831)\t0.26729930485517817\n",
      "  (1, 937)\t0.17990063081071436\n",
      "  (1, 1894)\t0.2190517171449065\n",
      "  (1, 2920)\t0.10557329754151569\n",
      "  (1, 4282)\t0.21200560457680895\n",
      "  (1, 3714)\t0.09972295238987999\n",
      "  (1, 7446)\t0.1695584988160503\n",
      "  (1, 4908)\t0.14874604136205302\n",
      "  (1, 6768)\t0.11349051404862\n",
      "  (1, 6238)\t0.11876886576185115\n",
      "  (1, 2844)\t0.2537790500257035\n",
      "  (1, 7659)\t0.2183037355553489\n",
      "  :\t:\n",
      "  (4455, 3994)\t0.28007076122039465\n",
      "  (4455, 4870)\t0.27669278863530977\n",
      "  (4455, 4800)\t0.1634263438044151\n",
      "  (4455, 7147)\t0.17690260531267968\n",
      "  (4455, 3606)\t0.13292987710754373\n",
      "  (4455, 4046)\t0.28185851076945057\n",
      "  (4455, 4814)\t0.15769725241584145\n",
      "  (4455, 4382)\t0.1422237285554271\n",
      "  (4455, 4593)\t0.2244956306533481\n",
      "  (4456, 141)\t0.273452555847\n",
      "  (4456, 5115)\t0.19635319496195833\n",
      "  (4456, 647)\t0.28128253616371457\n",
      "  (4456, 6509)\t0.28128253616371457\n",
      "  (4456, 6937)\t0.22146389507563774\n",
      "  (4456, 5746)\t0.4312041244926832\n",
      "  (4456, 6218)\t0.19635319496195833\n",
      "  (4456, 7390)\t0.2248082750832838\n",
      "  (4456, 7386)\t0.34328664422442867\n",
      "  (4456, 6447)\t0.16404546677417325\n",
      "  (4456, 6505)\t0.2569603957818565\n",
      "  (4456, 334)\t0.207236355014975\n",
      "  (4456, 3095)\t0.13025533971028597\n",
      "  (4456, 5960)\t0.15162322749019408\n",
      "  (4456, 6891)\t0.15516730282179522\n",
      "  (4456, 2962)\t0.2942578207855561\n"
     ]
    }
   ],
   "source": [
    " print(X_train_features) "
   ]
  },
  {
   "cell_type": "code",
   "execution_count": 57,
   "id": "a2e79b6b",
   "metadata": {},
   "outputs": [
    {
     "name": "stdout",
     "output_type": "stream",
     "text": [
      "(4457, 7693)\n"
     ]
    }
   ],
   "source": [
    " print(X_train_features.shape) "
   ]
  },
  {
   "cell_type": "code",
   "execution_count": 58,
   "id": "a67ad6de",
   "metadata": {},
   "outputs": [
    {
     "name": "stdout",
     "output_type": "stream",
     "text": [
      "  (0, 7659)\t0.11777529546677937\n",
      "  (0, 7653)\t0.08124331849626527\n",
      "  (0, 7527)\t0.18247773253717986\n",
      "  (0, 7151)\t0.19346519380979824\n",
      "  (0, 6891)\t0.07955148779946085\n",
      "  (0, 6810)\t0.1389235315401166\n",
      "  (0, 6771)\t0.09603105933365308\n",
      "  (0, 5550)\t0.2224817452513718\n",
      "  (0, 5387)\t0.1870126073132054\n",
      "  (0, 4903)\t0.12485623031466579\n",
      "  (0, 4766)\t0.13607621492454494\n",
      "  (0, 4519)\t0.17260364803223566\n",
      "  (0, 3714)\t0.10760145860683062\n",
      "  (0, 1600)\t0.24888954643504357\n",
      "  (0, 1592)\t0.12062906802721217\n",
      "  (0, 1453)\t0.2987676436541797\n",
      "  (0, 1407)\t0.2363576660162618\n",
      "  (0, 1114)\t0.23051032565855334\n",
      "  (0, 1072)\t0.263477954675303\n",
      "  (0, 405)\t0.2239504978254755\n",
      "  (0, 306)\t0.22548176899350855\n",
      "  (0, 20)\t0.288417003284871\n",
      "  (0, 14)\t0.2520201672053349\n",
      "  (0, 9)\t0.2682823396385024\n",
      "  (0, 1)\t0.2239504978254755\n",
      "  :\t:\n",
      "  (1112, 4766)\t0.16091012094821885\n",
      "  (1112, 4297)\t0.26663218653224996\n",
      "  (1112, 3733)\t0.18331683636357654\n",
      "  (1112, 2390)\t0.1949517478756202\n",
      "  (1112, 1737)\t0.32380230720072434\n",
      "  (1112, 1592)\t0.14264387010538784\n",
      "  (1112, 1141)\t0.28481808666370584\n",
      "  (1112, 948)\t0.12525949615339974\n",
      "  (1113, 6771)\t0.15832292568837383\n",
      "  (1113, 6257)\t0.3245068293041708\n",
      "  (1113, 4903)\t0.2058459399594686\n",
      "  (1113, 4860)\t0.19681452363645463\n",
      "  (1113, 4205)\t0.2641843218914858\n",
      "  (1113, 4163)\t0.3211163064492202\n",
      "  (1113, 3933)\t0.24374660509742352\n",
      "  (1113, 3726)\t0.19041630155208197\n",
      "  (1113, 3387)\t0.2882357016196781\n",
      "  (1113, 3212)\t0.29351188869291966\n",
      "  (1113, 2942)\t0.5166187612875753\n",
      "  (1113, 2284)\t0.2895114067246013\n",
      "  (1114, 4943)\t0.3190761181852287\n",
      "  (1114, 4699)\t0.3950636917844905\n",
      "  (1114, 4158)\t0.6495835977230825\n",
      "  (1114, 2356)\t0.3260724561088919\n",
      "  (1114, 988)\t0.46242081827455217\n"
     ]
    }
   ],
   "source": [
    "print(X_test_features)"
   ]
  },
  {
   "cell_type": "code",
   "execution_count": 59,
   "id": "7cdaf631",
   "metadata": {},
   "outputs": [
    {
     "name": "stdout",
     "output_type": "stream",
     "text": [
      "(1115, 7693)\n"
     ]
    }
   ],
   "source": [
    "print(X_test_features.shape)"
   ]
  },
  {
   "cell_type": "markdown",
   "id": "212540eb",
   "metadata": {},
   "source": [
    "# Training the Model"
   ]
  },
  {
   "cell_type": "markdown",
   "id": "7dd6fdd2",
   "metadata": {},
   "source": [
    "Logistic Regression"
   ]
  },
  {
   "cell_type": "code",
   "execution_count": 60,
   "id": "d5132f99",
   "metadata": {},
   "outputs": [],
   "source": [
    "model=LogisticRegression()"
   ]
  },
  {
   "cell_type": "code",
   "execution_count": 61,
   "id": "60514c53",
   "metadata": {},
   "outputs": [
    {
     "data": {
      "text/html": [
       "<style>#sk-container-id-2 {color: black;}#sk-container-id-2 pre{padding: 0;}#sk-container-id-2 div.sk-toggleable {background-color: white;}#sk-container-id-2 label.sk-toggleable__label {cursor: pointer;display: block;width: 100%;margin-bottom: 0;padding: 0.3em;box-sizing: border-box;text-align: center;}#sk-container-id-2 label.sk-toggleable__label-arrow:before {content: \"▸\";float: left;margin-right: 0.25em;color: #696969;}#sk-container-id-2 label.sk-toggleable__label-arrow:hover:before {color: black;}#sk-container-id-2 div.sk-estimator:hover label.sk-toggleable__label-arrow:before {color: black;}#sk-container-id-2 div.sk-toggleable__content {max-height: 0;max-width: 0;overflow: hidden;text-align: left;background-color: #f0f8ff;}#sk-container-id-2 div.sk-toggleable__content pre {margin: 0.2em;color: black;border-radius: 0.25em;background-color: #f0f8ff;}#sk-container-id-2 input.sk-toggleable__control:checked~div.sk-toggleable__content {max-height: 200px;max-width: 100%;overflow: auto;}#sk-container-id-2 input.sk-toggleable__control:checked~label.sk-toggleable__label-arrow:before {content: \"▾\";}#sk-container-id-2 div.sk-estimator input.sk-toggleable__control:checked~label.sk-toggleable__label {background-color: #d4ebff;}#sk-container-id-2 div.sk-label input.sk-toggleable__control:checked~label.sk-toggleable__label {background-color: #d4ebff;}#sk-container-id-2 input.sk-hidden--visually {border: 0;clip: rect(1px 1px 1px 1px);clip: rect(1px, 1px, 1px, 1px);height: 1px;margin: -1px;overflow: hidden;padding: 0;position: absolute;width: 1px;}#sk-container-id-2 div.sk-estimator {font-family: monospace;background-color: #f0f8ff;border: 1px dotted black;border-radius: 0.25em;box-sizing: border-box;margin-bottom: 0.5em;}#sk-container-id-2 div.sk-estimator:hover {background-color: #d4ebff;}#sk-container-id-2 div.sk-parallel-item::after {content: \"\";width: 100%;border-bottom: 1px solid gray;flex-grow: 1;}#sk-container-id-2 div.sk-label:hover label.sk-toggleable__label {background-color: #d4ebff;}#sk-container-id-2 div.sk-serial::before {content: \"\";position: absolute;border-left: 1px solid gray;box-sizing: border-box;top: 0;bottom: 0;left: 50%;z-index: 0;}#sk-container-id-2 div.sk-serial {display: flex;flex-direction: column;align-items: center;background-color: white;padding-right: 0.2em;padding-left: 0.2em;position: relative;}#sk-container-id-2 div.sk-item {position: relative;z-index: 1;}#sk-container-id-2 div.sk-parallel {display: flex;align-items: stretch;justify-content: center;background-color: white;position: relative;}#sk-container-id-2 div.sk-item::before, #sk-container-id-2 div.sk-parallel-item::before {content: \"\";position: absolute;border-left: 1px solid gray;box-sizing: border-box;top: 0;bottom: 0;left: 50%;z-index: -1;}#sk-container-id-2 div.sk-parallel-item {display: flex;flex-direction: column;z-index: 1;position: relative;background-color: white;}#sk-container-id-2 div.sk-parallel-item:first-child::after {align-self: flex-end;width: 50%;}#sk-container-id-2 div.sk-parallel-item:last-child::after {align-self: flex-start;width: 50%;}#sk-container-id-2 div.sk-parallel-item:only-child::after {width: 0;}#sk-container-id-2 div.sk-dashed-wrapped {border: 1px dashed gray;margin: 0 0.4em 0.5em 0.4em;box-sizing: border-box;padding-bottom: 0.4em;background-color: white;}#sk-container-id-2 div.sk-label label {font-family: monospace;font-weight: bold;display: inline-block;line-height: 1.2em;}#sk-container-id-2 div.sk-label-container {text-align: center;}#sk-container-id-2 div.sk-container {/* jupyter's `normalize.less` sets `[hidden] { display: none; }` but bootstrap.min.css set `[hidden] { display: none !important; }` so we also need the `!important` here to be able to override the default hidden behavior on the sphinx rendered scikit-learn.org. See: https://github.com/scikit-learn/scikit-learn/issues/21755 */display: inline-block !important;position: relative;}#sk-container-id-2 div.sk-text-repr-fallback {display: none;}</style><div id=\"sk-container-id-2\" class=\"sk-top-container\"><div class=\"sk-text-repr-fallback\"><pre>LogisticRegression()</pre><b>In a Jupyter environment, please rerun this cell to show the HTML representation or trust the notebook. <br />On GitHub, the HTML representation is unable to render, please try loading this page with nbviewer.org.</b></div><div class=\"sk-container\" hidden><div class=\"sk-item\"><div class=\"sk-estimator sk-toggleable\"><input class=\"sk-toggleable__control sk-hidden--visually\" id=\"sk-estimator-id-2\" type=\"checkbox\" checked><label for=\"sk-estimator-id-2\" class=\"sk-toggleable__label sk-toggleable__label-arrow\">LogisticRegression</label><div class=\"sk-toggleable__content\"><pre>LogisticRegression()</pre></div></div></div></div></div>"
      ],
      "text/plain": [
       "LogisticRegression()"
      ]
     },
     "execution_count": 61,
     "metadata": {},
     "output_type": "execute_result"
    }
   ],
   "source": [
    "#training the logistic regression model with the training data\n",
    "model.fit(X_train_features,Y_train)"
   ]
  },
  {
   "cell_type": "markdown",
   "id": "86229685",
   "metadata": {},
   "source": [
    "# Evaluating the trained model"
   ]
  },
  {
   "cell_type": "code",
   "execution_count": 62,
   "id": "32f6142e",
   "metadata": {},
   "outputs": [],
   "source": [
    "#prediction on training data\n",
    "prediction_on_training_data=model.predict(X_train_features)\n",
    "accuracy_on_training_data=accuracy_score(Y_train,prediction_on_training_data)\n"
   ]
  },
  {
   "cell_type": "code",
   "execution_count": 63,
   "id": "909eb01d",
   "metadata": {},
   "outputs": [
    {
     "name": "stdout",
     "output_type": "stream",
     "text": [
      "Accuracy on training data: 0.9730760601301324\n"
     ]
    }
   ],
   "source": [
    "print('Accuracy on training data:',accuracy_on_training_data)"
   ]
  },
  {
   "cell_type": "code",
   "execution_count": 64,
   "id": "344d8358",
   "metadata": {},
   "outputs": [],
   "source": [
    "#prediction on testing data\n",
    "prediction_on_test_data=model.predict(X_test_features)\n",
    "accuracy_on_test_data=accuracy_score(Y_test,prediction_on_test_data)"
   ]
  },
  {
   "cell_type": "code",
   "execution_count": 65,
   "id": "6839c4b5",
   "metadata": {},
   "outputs": [
    {
     "name": "stdout",
     "output_type": "stream",
     "text": [
      "Accuracy on test data :  0.9775784753363229\n"
     ]
    }
   ],
   "source": [
    "print('Accuracy on test data : ', accuracy_on_test_data)"
   ]
  },
  {
   "cell_type": "markdown",
   "id": "ef1036bb",
   "metadata": {},
   "source": [
    "# Or\n"
   ]
  },
  {
   "cell_type": "markdown",
   "id": "9817d709",
   "metadata": {},
   "source": [
    "# Evaluate the model using confusion matrix"
   ]
  },
  {
   "cell_type": "code",
   "execution_count": 66,
   "id": "ecb76057",
   "metadata": {},
   "outputs": [
    {
     "name": "stdout",
     "output_type": "stream",
     "text": [
      "Accuracy: 0.9775784753363229\n",
      "Confusion Matrix:\n",
      "[[130  25]\n",
      " [  0 960]]\n",
      "Classification Report:\n",
      "              precision    recall  f1-score   support\n",
      "\n",
      "           0       1.00      0.84      0.91       155\n",
      "           1       0.97      1.00      0.99       960\n",
      "\n",
      "    accuracy                           0.98      1115\n",
      "   macro avg       0.99      0.92      0.95      1115\n",
      "weighted avg       0.98      0.98      0.98      1115\n",
      "\n"
     ]
    }
   ],
   "source": [
    "# Make predictions\n",
    "predictions = model.predict(X_test_features)\n",
    "\n",
    "# Evaluate the model\n",
    "accuracy = accuracy_score(Y_test, predictions)\n",
    "conf_matrix = confusion_matrix(Y_test, predictions)\n",
    "classification_rep = classification_report(Y_test, predictions)\n",
    "\n",
    "print(f\"Accuracy: {accuracy}\")\n",
    "print(f\"Confusion Matrix:\\n{conf_matrix}\")\n",
    "print(f\"Classification Report:\\n{classification_rep}\")\n"
   ]
  },
  {
   "cell_type": "markdown",
   "id": "decbbe23",
   "metadata": {},
   "source": [
    "# Visualize the confusion matrix"
   ]
  },
  {
   "cell_type": "code",
   "execution_count": 67,
   "id": "5a60e820",
   "metadata": {},
   "outputs": [
    {
     "data": {
      "image/png": "[encoded data removed]",
      "text/plain": [
       "<Figure size 640x480 with 2 Axes>"
      ]
     },
     "metadata": {},
     "output_type": "display_data"
    }
   ],
   "source": [
    "\n",
    "sns.heatmap(conf_matrix, annot=True, fmt='d', cmap='Blues', xticklabels=['Ham', 'Spam'], yticklabels=['Ham', 'Spam'])\n",
    "plt.xlabel('Predicted')\n",
    "plt.ylabel('Actual')\n",
    "plt.title('Confusion Matrix')\n",
    "plt.show()\n"
   ]
  },
  {
   "cell_type": "markdown",
   "id": "0835fc20",
   "metadata": {},
   "source": [
    "# Building a Predictive System"
   ]
  },
  {
   "cell_type": "code",
   "execution_count": 68,
   "id": "34f62317",
   "metadata": {},
   "outputs": [
    {
     "name": "stdout",
     "output_type": "stream",
     "text": [
      "[1]\n",
      "Ham mail\n"
     ]
    }
   ],
   "source": [
    "input_mail = [\"I've been searching for the right words to thank you for this breather. I promise i wont take your help for granted and will fulfil my promise. You have been wonderful and a blessing at all times\"]\n",
    "\n",
    "# convert text to feature vectors\n",
    "input_data_features = feature_extraction.transform(input_mail)\n",
    "\n",
    "# making prediction\n",
    "\n",
    "prediction = model.predict(input_data_features)\n",
    "print(prediction)\n",
    "\n",
    "\n",
    "if (prediction[0]==1):\n",
    "  print('Ham mail')\n",
    "\n",
    "else:\n",
    "  print('Spam mail')"
   ]
  },
  {
   "cell_type": "code",
   "execution_count": null,
   "id": "35ab017d",
   "metadata": {},
   "outputs": [],
   "source": []
  },
  {
   "cell_type": "code",
   "execution_count": null,
   "id": "9c8516fc",
   "metadata": {},
   "outputs": [],
   "source": []
  },
  {
   "cell_type": "code",
   "execution_count": null,
   "id": "fdb22872",
   "metadata": {},
   "outputs": [],
   "source": []
  }
 ],
 "metadata": {
  "kernelspec": {
   "display_name": "Python 3 (ipykernel)",
   "language": "python",
   "name": "python3"
  },
  "language_info": {
   "codemirror_mode": {
    "name": "ipython",
    "version": 3
   },
   "file_extension": ".py",
   "mimetype": "text/x-python",
   "name": "python",
   "nbconvert_exporter": "python",
   "pygments_lexer": "ipython3",
   "version": "3.11.5"
  }
 },
 "nbformat": 4,
 "nbformat_minor": 5
}
